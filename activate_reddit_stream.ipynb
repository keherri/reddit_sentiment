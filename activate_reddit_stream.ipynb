{
 "cells": [
  {
   "cell_type": "markdown",
   "id": "e4772c70",
   "metadata": {},
   "source": [
    "\n",
    "# Activate Reddit Stream and Get Predictions\n",
    "\n",
    "Use this script to turn on the Reddit API stream. \n",
    "\n",
    "Predictions at end"
   ]
  },
  {
   "cell_type": "markdown",
   "id": "7e6edc98",
   "metadata": {},
   "source": [
    "## Activate Stream"
   ]
  },
  {
   "cell_type": "code",
   "execution_count": 1,
   "id": "8bb3362f",
   "metadata": {},
   "outputs": [],
   "source": [
    "# Base imports\n",
    "import json\n",
    "import os\n",
    "import boto3"
   ]
  },
  {
   "cell_type": "code",
   "execution_count": 2,
   "id": "c3d8acae",
   "metadata": {},
   "outputs": [],
   "source": [
    "# Set Reddit Creds\n",
    "REDDIT_CLIENT_ID = os.environ.get(\"REDDIT_CLIENT_ID\")\n",
    "REDDIT_CLIENT_SECRET = os.environ.get(\"REDDIT_CLIENT_SECRET\")\n",
    "REDDIT_USER_AGENT = os.environ.get(\"REDDIT_USER_AGENT\")"
   ]
  },
  {
   "cell_type": "markdown",
   "id": "eaa6f636",
   "metadata": {},
   "source": [
    "### Start Server (If not running)"
   ]
  },
  {
   "cell_type": "code",
   "execution_count": 3,
   "id": "443662b0",
   "metadata": {},
   "outputs": [
    {
     "name": "stdout",
     "output_type": "stream",
     "text": [
      "ec2 InstanceId: i-08f6fd142795d83cd\n"
     ]
    }
   ],
   "source": [
    "# Get EC2 Instance\n",
    "ec2 = boto3.client('ec2')\n",
    "instances = ec2.describe_instances()\n",
    "rsrs = instances['Reservations']\n",
    "# Find instances that have the keypair created with `sam deploy` and are not terminated, disabled, ...\n",
    "reddit_instance = [ints for rsrs in instances['Reservations'] for ints in rsrs['Instances'] if \\\n",
    "                  (ints['KeyName'] == 'reddit-crypto-key') \\\n",
    "                   & (ints['State']['Name'] in ['stopped', 'running', 'pending'])][0]\n",
    "instance_id = reddit_instance['InstanceId'] # EC2 Instance Id from instance created during `sam deploy`\n",
    "print(f'ec2 InstanceId: {instance_id}')"
   ]
  },
  {
   "cell_type": "code",
   "execution_count": 5,
   "id": "9169d522",
   "metadata": {},
   "outputs": [],
   "source": [
    "# Start instance if stopped\n",
    "if reddit_instance['State']['Name'] in ['stopped']:\n",
    "    start_response = ec2.start_instances(InstanceIds=[instance_id])\n",
    "    print(start_response)"
   ]
  },
  {
   "cell_type": "markdown",
   "id": "dcc748aa",
   "metadata": {},
   "source": [
    "### Prepare script and credentials"
   ]
  },
  {
   "cell_type": "code",
   "execution_count": 6,
   "id": "d25e9fed",
   "metadata": {},
   "outputs": [],
   "source": [
    "# Load script to connect to Reddit API and send comments to Kinesis\n",
    "with open(\"ec2/get_reddit_comments.py\", \"r\") as f:\n",
    "    reddit_py = f.read()"
   ]
  },
  {
   "cell_type": "code",
   "execution_count": 7,
   "id": "086e43ae",
   "metadata": {},
   "outputs": [],
   "source": [
    "import configparser\n",
    "\n",
    "# Get AWS Creds ready for EC2 instance\n",
    "def get_aws_region(profile='default'):\n",
    "    config = configparser.RawConfigParser()\n",
    "    path = os.path.join(os.path.expanduser('~'), '.aws/credentials')\n",
    "    aws_config = config.read(path)\n",
    "    \n",
    "    return config.get(profile, \"region\")"
   ]
  },
  {
   "cell_type": "markdown",
   "id": "09e323fc",
   "metadata": {},
   "source": [
    "### Start stream\n",
    "\n",
    "Let run for about ~10 minutes to ensure there is a large set of comments made"
   ]
  },
  {
   "cell_type": "code",
   "execution_count": 8,
   "id": "0984b810",
   "metadata": {},
   "outputs": [],
   "source": [
    "# Copy file to EC2 and Execute commands\n",
    "\n",
    "# Prep Reddit credentials\n",
    "reddit_config = json.dumps({\n",
    "    'client_id': REDDIT_CLIENT_ID,\n",
    "    'client_secret': REDDIT_CLIENT_SECRET,\n",
    "    'user_agent': REDDIT_USER_AGENT\n",
    "})\n",
    "\n",
    "# Replace AWS Region in script if not us-east-1\n",
    "aws_region = get_aws_region()\n",
    "if aws_region != 'us-east-1': \n",
    "    reddit_py = reddit_py.replace('us-east-1', aws_region)\n",
    "\n",
    "command = (\n",
    "    f\"echo -e '{reddit_py}' > get_reddit_comments.py && \"\n",
    "    f\"echo -e '{reddit_config}' > .reddit_config && \"\n",
    "    \"python3 get_reddit_comments.py\"\n",
    ")\n",
    "\n",
    "ssm = boto3.client('ssm')\n",
    "\n",
    "response = ssm.send_command(\n",
    "    InstanceIds=[instance_id],\n",
    "    DocumentName='AWS-RunShellScript',\n",
    "    Parameters={'commands': [command]})"
   ]
  },
  {
   "cell_type": "code",
   "execution_count": 9,
   "id": "6369b06b",
   "metadata": {},
   "outputs": [],
   "source": [
    "# # See what commands are active\n",
    "# invocations = ssm.list_command_invocations(\n",
    "#     InstanceId=instance_id\n",
    "# )\n",
    "\n",
    "# for invoc in invocations['CommandInvocations']:\n",
    "#     if invoc['StatusDetails'] == 'InProgress':\n",
    "#         print(invoc['CommandId'])"
   ]
  },
  {
   "cell_type": "code",
   "execution_count": 10,
   "id": "72d37591",
   "metadata": {},
   "outputs": [],
   "source": [
    "command_id = response['Command']['CommandId']"
   ]
  },
  {
   "cell_type": "code",
   "execution_count": 11,
   "id": "cd5f9737",
   "metadata": {},
   "outputs": [
    {
     "name": "stdout",
     "output_type": "stream",
     "text": [
      "InProgress\n"
     ]
    }
   ],
   "source": [
    "from pprint import pprint\n",
    "# Check status. If all is working it should say 'In'\n",
    "status_response = ssm.get_command_invocation(CommandId=command_id, InstanceId=instance_id)\n",
    "status = status_response['StatusDetails']\n",
    "print(status)\n",
    "\n",
    "if status != 'InProgress':\n",
    "    pprint(status_response)"
   ]
  },
  {
   "cell_type": "markdown",
   "id": "7bb92ad2",
   "metadata": {},
   "source": [
    "### Kill stream"
   ]
  },
  {
   "cell_type": "code",
   "execution_count": 12,
   "id": "1f0237a5",
   "metadata": {
    "scrolled": true
   },
   "outputs": [
    {
     "name": "stdout",
     "output_type": "stream",
     "text": [
      "Success: Reddit Streaming stopped\n",
      "This does not stop ec2 instance.\n"
     ]
    }
   ],
   "source": [
    "# Make sure to wait about 10 minutes so new comments have time to be posted on Reddit\n",
    "\n",
    "## Kill streaming of Reddit comments\n",
    "## NOTE: This does not stop the ec2 instance\n",
    "\n",
    "cancel_request = ssm.cancel_command(CommandId=command_id)\n",
    "\n",
    "if cancel_request['ResponseMetadata']['HTTPStatusCode'] == 200:\n",
    "    print('Success: Reddit Streaming stopped')\n",
    "    print('This does not stop ec2 instance.')\n",
    "else:\n",
    "    print('Error: Streaming not stopped')\n",
    "    print(cancel_request)"
   ]
  },
  {
   "cell_type": "code",
   "execution_count": 13,
   "id": "8a2e2de6",
   "metadata": {},
   "outputs": [
    {
     "name": "stdout",
     "output_type": "stream",
     "text": [
      "{'StoppingInstances': [{'CurrentState': {'Code': 64, 'Name': 'stopping'}, 'InstanceId': 'i-08f6fd142795d83cd', 'PreviousState': {'Code': 16, 'Name': 'running'}}], 'ResponseMetadata': {'RequestId': '195fab7b-735b-4ac0-b36c-e4e8f5114444', 'HTTPStatusCode': 200, 'HTTPHeaders': {'x-amzn-requestid': '195fab7b-735b-4ac0-b36c-e4e8f5114444', 'cache-control': 'no-cache, no-store', 'strict-transport-security': 'max-age=31536000; includeSubDomains', 'content-type': 'text/xml;charset=UTF-8', 'content-length': '579', 'date': 'Sat, 21 Jan 2023 08:07:37 GMT', 'server': 'AmazonEC2'}, 'RetryAttempts': 0}}\n"
     ]
    }
   ],
   "source": [
    "# Stop instance if desired\n",
    "stop_response = ec2.stop_instances(InstanceIds=[instance_id])\n",
    "print(stop_response)"
   ]
  },
  {
   "cell_type": "markdown",
   "id": "d92a0683",
   "metadata": {},
   "source": [
    "## Get Predictions on past 10 minutes of comments"
   ]
  },
  {
   "cell_type": "code",
   "execution_count": 14,
   "id": "d9063fff",
   "metadata": {},
   "outputs": [],
   "source": [
    "import requests\n",
    "\n",
    "# Make API request to return Reddit cryptocurrency sentiment for past 10 minutes of comments\n",
    "# After `sam deploy` the endpoint url of the SentimentDataApi will be printed\n",
    "url = \"https://lav2onjw4c.execute-api.us-east-1.amazonaws.com/Prod/reddit_sentiment/\"\n",
    "\n",
    "response = requests.get(url=url)\n",
    "r_json = response.json()"
   ]
  },
  {
   "cell_type": "code",
   "execution_count": 15,
   "id": "2208ced8",
   "metadata": {},
   "outputs": [
    {
     "data": {
      "text/html": [
       "<div>\n",
       "<style scoped>\n",
       "    .dataframe tbody tr th:only-of-type {\n",
       "        vertical-align: middle;\n",
       "    }\n",
       "\n",
       "    .dataframe tbody tr th {\n",
       "        vertical-align: top;\n",
       "    }\n",
       "\n",
       "    .dataframe thead th {\n",
       "        text-align: right;\n",
       "    }\n",
       "</style>\n",
       "<table border=\"1\" class=\"dataframe\">\n",
       "  <thead>\n",
       "    <tr style=\"text-align: right;\">\n",
       "      <th></th>\n",
       "      <th>CommentId</th>\n",
       "      <th>CommentText</th>\n",
       "      <th>Sentiment</th>\n",
       "      <th>SentimentScore</th>\n",
       "      <th>Subreddit</th>\n",
       "      <th>Author</th>\n",
       "      <th>CreatedUtc</th>\n",
       "    </tr>\n",
       "  </thead>\n",
       "  <tbody>\n",
       "    <tr>\n",
       "      <th>0</th>\n",
       "      <td>j5972hk</td>\n",
       "      <td>HIGH ON THAT HOPIUM</td>\n",
       "      <td>POSITIVE</td>\n",
       "      <td>99.0</td>\n",
       "      <td>Bitcoin</td>\n",
       "      <td>blitzik</td>\n",
       "      <td>1.674288e+09</td>\n",
       "    </tr>\n",
       "    <tr>\n",
       "      <th>1</th>\n",
       "      <td>j5975hb</td>\n",
       "      <td>U dumb</td>\n",
       "      <td>POSITIVE</td>\n",
       "      <td>73.0</td>\n",
       "      <td>Bitcoin</td>\n",
       "      <td>blitzik</td>\n",
       "      <td>1.674288e+09</td>\n",
       "    </tr>\n",
       "    <tr>\n",
       "      <th>2</th>\n",
       "      <td>j59774g</td>\n",
       "      <td>Definitely, this is the type of content that i...</td>\n",
       "      <td>POSITIVE</td>\n",
       "      <td>96.0</td>\n",
       "      <td>CryptoCurrency</td>\n",
       "      <td>Uno-91</td>\n",
       "      <td>1.674288e+09</td>\n",
       "    </tr>\n",
       "    <tr>\n",
       "      <th>3</th>\n",
       "      <td>j597e0y</td>\n",
       "      <td>😂😂</td>\n",
       "      <td>NEGATIVE</td>\n",
       "      <td>74.0</td>\n",
       "      <td>CryptoCurrency</td>\n",
       "      <td>Candycanestar</td>\n",
       "      <td>1.674288e+09</td>\n",
       "    </tr>\n",
       "    <tr>\n",
       "      <th>4</th>\n",
       "      <td>j5976gw</td>\n",
       "      <td>I know they're all thinking\\nI'm so white 'n' ...</td>\n",
       "      <td>NEGATIVE</td>\n",
       "      <td>100.0</td>\n",
       "      <td>Bitcoin</td>\n",
       "      <td>LayPessimist</td>\n",
       "      <td>1.674288e+09</td>\n",
       "    </tr>\n",
       "  </tbody>\n",
       "</table>\n",
       "</div>"
      ],
      "text/plain": [
       "  CommentId                                        CommentText Sentiment  \\\n",
       "0   j5972hk                                HIGH ON THAT HOPIUM  POSITIVE   \n",
       "1   j5975hb                                             U dumb  POSITIVE   \n",
       "2   j59774g  Definitely, this is the type of content that i...  POSITIVE   \n",
       "3   j597e0y                                                 😂😂  NEGATIVE   \n",
       "4   j5976gw  I know they're all thinking\\nI'm so white 'n' ...  NEGATIVE   \n",
       "\n",
       "   SentimentScore       Subreddit         Author    CreatedUtc  \n",
       "0            99.0         Bitcoin        blitzik  1.674288e+09  \n",
       "1            73.0         Bitcoin        blitzik  1.674288e+09  \n",
       "2            96.0  CryptoCurrency         Uno-91  1.674288e+09  \n",
       "3            74.0  CryptoCurrency  Candycanestar  1.674288e+09  \n",
       "4           100.0         Bitcoin   LayPessimist  1.674288e+09  "
      ]
     },
     "execution_count": 15,
     "metadata": {},
     "output_type": "execute_result"
    }
   ],
   "source": [
    "import pandas as pd\n",
    "\n",
    "# Turn response into Pandas dataframe for review\n",
    "df = pd.json_normalize(r_json['results'])\n",
    "col_order = ['CommentId', 'CommentText', 'Sentiment', 'SentimentScore', 'Subreddit', 'Author', 'CreatedUtc']\n",
    "df = df[col_order]\n",
    "df.head()"
   ]
  },
  {
   "cell_type": "code",
   "execution_count": null,
   "id": "00c5eb06",
   "metadata": {},
   "outputs": [],
   "source": []
  }
 ],
 "metadata": {
  "kernelspec": {
   "display_name": "Python 3 (ipykernel)",
   "language": "python",
   "name": "python3"
  },
  "language_info": {
   "codemirror_mode": {
    "name": "ipython",
    "version": 3
   },
   "file_extension": ".py",
   "mimetype": "text/x-python",
   "name": "python",
   "nbconvert_exporter": "python",
   "pygments_lexer": "ipython3",
   "version": "3.9.16"
  }
 },
 "nbformat": 4,
 "nbformat_minor": 5
}
